{
 "cells": [
  {
   "cell_type": "markdown",
   "id": "fa6e35ad-5485-42d1-bb8f-892e5fe57399",
   "metadata": {},
   "source": [
    "# Data types in python"
   ]
  },
  {
   "cell_type": "markdown",
   "id": "bc0f85a0-b4b4-4c08-967b-9a026e30ad26",
   "metadata": {},
   "source": [
    "### Creating the list"
   ]
  },
  {
   "cell_type": "markdown",
   "id": "a23c9b4b-a137-4f54-8dd4-61cc446fd4d9",
   "metadata": {},
   "source": [
    "#### Lists are ordered and mutable and written inside square[] brackets ."
   ]
  },
  {
   "cell_type": "code",
   "execution_count": 3,
   "id": "b41e4c77-0a4b-4086-bab4-58b923305afc",
   "metadata": {},
   "outputs": [],
   "source": [
    "#Adding an element to the list \n",
    "#append add item at the last postion\n",
    "list.append('Delhi')"
   ]
  },
  {
   "cell_type": "code",
   "execution_count": 4,
   "id": "09e9295f-49a5-4967-94da-ad51d365bd73",
   "metadata": {},
   "outputs": [
    {
     "name": "stdout",
     "output_type": "stream",
     "text": [
      "['apple', 23, 45.6, 'Rohan', 'Delhi']\n"
     ]
    }
   ],
   "source": [
    "print(list)"
   ]
  },
  {
   "cell_type": "code",
   "execution_count": 8,
   "id": "dfc5bc3d-0d22-4cda-a1f6-77955ed4fa5a",
   "metadata": {},
   "outputs": [],
   "source": [
    "#insert add the element at the specific position\n",
    "list.insert(2,\"Meenu\")"
   ]
  },
  {
   "cell_type": "code",
   "execution_count": 16,
   "id": "e8e99368-288a-49e5-8687-0fe96046b658",
   "metadata": {},
   "outputs": [
    {
     "name": "stdout",
     "output_type": "stream",
     "text": [
      "['apple', 23, 'Meenu', 45.6, 'Rohan', 'Delhi']\n"
     ]
    }
   ],
   "source": [
    "print(list)"
   ]
  },
  {
   "cell_type": "code",
   "execution_count": 17,
   "id": "c6ba668c-ad12-4811-ba38-985a8aacbf3a",
   "metadata": {},
   "outputs": [],
   "source": [
    "#Remove from the list\n",
    "list.remove('Meenu')"
   ]
  },
  {
   "cell_type": "code",
   "execution_count": 18,
   "id": "486b3c82-628e-457c-b096-fa824cee33e1",
   "metadata": {},
   "outputs": [
    {
     "name": "stdout",
     "output_type": "stream",
     "text": [
      "['apple', 23, 45.6, 'Rohan', 'Delhi']\n"
     ]
    }
   ],
   "source": [
    "print(list)"
   ]
  },
  {
   "cell_type": "code",
   "execution_count": 20,
   "id": "73a36691-2a67-498c-850a-ae504b2a51d1",
   "metadata": {},
   "outputs": [],
   "source": [
    "#To reverse the list\n",
    "list.reverse()"
   ]
  },
  {
   "cell_type": "code",
   "execution_count": 21,
   "id": "d1d8e671-2ffc-4a12-acab-794e393432ae",
   "metadata": {},
   "outputs": [
    {
     "name": "stdout",
     "output_type": "stream",
     "text": [
      "['Delhi', 'Rohan', 45.6, 23, 'apple']\n"
     ]
    }
   ],
   "source": [
    "print(list)"
   ]
  },
  {
   "cell_type": "markdown",
   "id": "fdced4ca-a219-4181-8f42-49e581d5d097",
   "metadata": {},
   "source": [
    "### Creating the Dictionary"
   ]
  },
  {
   "cell_type": "markdown",
   "id": "4f3abda3-05a8-49e1-aa94-8c8a8e3ffed1",
   "metadata": {},
   "source": [
    "#### Dictionaries are in the form of key value pair and enclose in curlt brackets{}."
   ]
  },
  {
   "cell_type": "code",
   "execution_count": 23,
   "id": "71d6e53e-269b-4ea8-bb1b-81c8a12c9101",
   "metadata": {},
   "outputs": [],
   "source": [
    "dict = {'name':'John','Age':36,'Gender' : 'Male'}"
   ]
  },
  {
   "cell_type": "code",
   "execution_count": 24,
   "id": "2eea0696-a76d-4263-b5d9-e1ddbc728306",
   "metadata": {},
   "outputs": [
    {
     "name": "stdout",
     "output_type": "stream",
     "text": [
      "{'name': 'John', 'Age': 36, 'Gender': 'Male'}\n"
     ]
    }
   ],
   "source": [
    "print(dict)"
   ]
  },
  {
   "cell_type": "code",
   "execution_count": 25,
   "id": "30737a4d-4f23-4eda-b626-4b1d7ceecaba",
   "metadata": {},
   "outputs": [
    {
     "name": "stdout",
     "output_type": "stream",
     "text": [
      "<class 'dict'>\n"
     ]
    }
   ],
   "source": [
    "print(type(dict))"
   ]
  },
  {
   "cell_type": "code",
   "execution_count": 30,
   "id": "ff05f5e5-6907-4676-bf93-f4fb2deaf98b",
   "metadata": {},
   "outputs": [
    {
     "name": "stdout",
     "output_type": "stream",
     "text": [
      "John\n"
     ]
    }
   ],
   "source": [
    "#Return the value of the item specified key\n",
    "\n",
    "print(dict.get(\"name\"))"
   ]
  },
  {
   "cell_type": "code",
   "execution_count": 31,
   "id": "98c03bba-39ea-442f-94dc-7a0b1b8f7a4e",
   "metadata": {},
   "outputs": [
    {
     "name": "stdout",
     "output_type": "stream",
     "text": [
      "dict_items([('name', 'John'), ('Age', 36), ('Gender', 'Male')])\n"
     ]
    }
   ],
   "source": [
    "#Print the key-value pair of the dictionary\n",
    "print(dict.items())"
   ]
  },
  {
   "cell_type": "code",
   "execution_count": 32,
   "id": "d2cb6658-343d-4482-88a1-c68c3297a40d",
   "metadata": {},
   "outputs": [],
   "source": [
    "#Modify the dictionary\n",
    "dict['name']='Rohan'"
   ]
  },
  {
   "cell_type": "code",
   "execution_count": 33,
   "id": "37f90e58-c699-4351-98ec-6079846c78b3",
   "metadata": {},
   "outputs": [
    {
     "name": "stdout",
     "output_type": "stream",
     "text": [
      "{'name': 'Rohan', 'Age': 36, 'Gender': 'Male'}\n"
     ]
    }
   ],
   "source": [
    "print(dict)"
   ]
  },
  {
   "cell_type": "code",
   "execution_count": 34,
   "id": "5e35b78e-0cf1-4f3a-8e3a-7a2b5e1ee271",
   "metadata": {},
   "outputs": [
    {
     "data": {
      "text/plain": [
       "36"
      ]
     },
     "execution_count": 34,
     "metadata": {},
     "output_type": "execute_result"
    }
   ],
   "source": [
    "#Delete the specific item \n",
    "dict.pop('Age')"
   ]
  },
  {
   "cell_type": "code",
   "execution_count": 35,
   "id": "2efe4729-232c-45be-9153-55fb624c27dc",
   "metadata": {},
   "outputs": [
    {
     "name": "stdout",
     "output_type": "stream",
     "text": [
      "{'name': 'Rohan', 'Gender': 'Male'}\n"
     ]
    }
   ],
   "source": [
    "print(dict)"
   ]
  },
  {
   "cell_type": "code",
   "execution_count": 38,
   "id": "e0d6985a-7d0c-4c3e-94b2-64f1283cf068",
   "metadata": {},
   "outputs": [],
   "source": [
    "#Insert into  the dictionary\n",
    "dict['Branch']='IT'"
   ]
  },
  {
   "cell_type": "code",
   "execution_count": 39,
   "id": "7432485c-0015-4ff6-a301-f41c1ad9941d",
   "metadata": {},
   "outputs": [
    {
     "name": "stdout",
     "output_type": "stream",
     "text": [
      "{'name': 'Rohan', 'Gender': 'Male', 'Branch': 'IT'}\n"
     ]
    }
   ],
   "source": [
    "print(dict)"
   ]
  },
  {
   "cell_type": "code",
   "execution_count": 40,
   "id": "5431ad08-b982-4d4f-87f3-ad3b35537288",
   "metadata": {},
   "outputs": [],
   "source": [
    "dict.update({'age':24})"
   ]
  },
  {
   "cell_type": "code",
   "execution_count": 41,
   "id": "89d5fb6c-cc9d-495b-b181-5336c6efdd2f",
   "metadata": {},
   "outputs": [
    {
     "name": "stdout",
     "output_type": "stream",
     "text": [
      "{'name': 'Rohan', 'Gender': 'Male', 'Branch': 'IT', 'age': 24}\n"
     ]
    }
   ],
   "source": [
    "print(dict)"
   ]
  },
  {
   "cell_type": "markdown",
   "id": "827ce801-d524-49f7-892b-7d39463a56d9",
   "metadata": {},
   "source": [
    "### Creating  the sets "
   ]
  },
  {
   "cell_type": "markdown",
   "id": "ab821848-9975-48be-9e01-386c74688114",
   "metadata": {},
   "source": [
    "#### Sets are unordered, mutable and unique ."
   ]
  },
  {
   "cell_type": "code",
   "execution_count": 42,
   "id": "0b5daa8c-41aa-46d2-98c5-46097b0b26cb",
   "metadata": {},
   "outputs": [],
   "source": [
    "s = {2,4,5,2,5,7,8}"
   ]
  },
  {
   "cell_type": "code",
   "execution_count": 43,
   "id": "45b2234c-3517-49bf-a513-bba3be45d69c",
   "metadata": {},
   "outputs": [
    {
     "name": "stdout",
     "output_type": "stream",
     "text": [
      "<class 'set'>\n"
     ]
    }
   ],
   "source": [
    "print(type(s))"
   ]
  },
  {
   "cell_type": "code",
   "execution_count": 44,
   "id": "d8ba9cc4-1422-4b87-bad1-0800b4b4bace",
   "metadata": {},
   "outputs": [
    {
     "name": "stdout",
     "output_type": "stream",
     "text": [
      "{2, 4, 5, 7, 8}\n"
     ]
    }
   ],
   "source": [
    "#Set contains unique value\n",
    "print(s)"
   ]
  },
  {
   "cell_type": "code",
   "execution_count": 45,
   "id": "7982d456-90ba-488c-b15e-c32af68f20ba",
   "metadata": {},
   "outputs": [],
   "source": [
    "#Modifying the sets\n",
    "s.add(\"mango\")"
   ]
  },
  {
   "cell_type": "code",
   "execution_count": 46,
   "id": "da74590a-13dc-4939-a490-4d8119cb2ccc",
   "metadata": {},
   "outputs": [
    {
     "name": "stdout",
     "output_type": "stream",
     "text": [
      "{2, 4, 5, 7, 8, 'mango'}\n"
     ]
    }
   ],
   "source": [
    "print(s)"
   ]
  },
  {
   "cell_type": "code",
   "execution_count": 48,
   "id": "c4ef1514-7acc-440b-a6a0-3062426fd7e0",
   "metadata": {},
   "outputs": [
    {
     "data": {
      "text/plain": [
       "2"
      ]
     },
     "execution_count": 48,
     "metadata": {},
     "output_type": "execute_result"
    }
   ],
   "source": [
    "#pop returned removed value and it remove the random value from the set\n",
    "s.pop()"
   ]
  },
  {
   "cell_type": "code",
   "execution_count": 49,
   "id": "32532c75-77b4-4fb7-9785-0e3af77d24a4",
   "metadata": {},
   "outputs": [],
   "source": [
    "#remove the specified value and it throes an error it the value is not specified in the list\n",
    "s.remove('mango')"
   ]
  },
  {
   "cell_type": "code",
   "execution_count": 50,
   "id": "c61d351c-6540-4b84-b7c8-b0e6387206b4",
   "metadata": {},
   "outputs": [
    {
     "name": "stdout",
     "output_type": "stream",
     "text": [
      "{4, 5, 7, 8}\n"
     ]
    }
   ],
   "source": [
    "print(s)"
   ]
  },
  {
   "cell_type": "code",
   "execution_count": 51,
   "id": "d72e7d49-d9b2-4f9b-8d2c-32fbb890ef32",
   "metadata": {},
   "outputs": [],
   "source": [
    "#Discard will not throw the error if the specified value is not in the list \n",
    "s.discard('mango')"
   ]
  },
  {
   "cell_type": "markdown",
   "id": "e138b1a0-1a6b-4415-836f-7e3938d17bd4",
   "metadata": {},
   "source": [
    "### Creating the tuples"
   ]
  },
  {
   "cell_type": "markdown",
   "id": "c0d497b1-d728-47bb-af47-029b9558ceaa",
   "metadata": {},
   "source": [
    "### Tuples are ordered and unmutable"
   ]
  },
  {
   "cell_type": "code",
   "execution_count": 53,
   "id": "0b7fd0c4-ff28-4d60-b5f4-63994a9fad1a",
   "metadata": {},
   "outputs": [],
   "source": [
    "tup = ('mango',56,12)"
   ]
  },
  {
   "cell_type": "code",
   "execution_count": 54,
   "id": "deeb3276-e067-416f-ba97-ca5726c7f61e",
   "metadata": {},
   "outputs": [
    {
     "name": "stdout",
     "output_type": "stream",
     "text": [
      "<class 'tuple'>\n"
     ]
    }
   ],
   "source": [
    "print(type(tup))"
   ]
  },
  {
   "cell_type": "code",
   "execution_count": null,
   "id": "1b647191-e178-4ee2-b3e0-0124c7613073",
   "metadata": {},
   "outputs": [],
   "source": []
  }
 ],
 "metadata": {
  "kernelspec": {
   "display_name": "Python 3 (ipykernel)",
   "language": "python",
   "name": "python3"
  },
  "language_info": {
   "codemirror_mode": {
    "name": "ipython",
    "version": 3
   },
   "file_extension": ".py",
   "mimetype": "text/x-python",
   "name": "python",
   "nbconvert_exporter": "python",
   "pygments_lexer": "ipython3",
   "version": "3.12.4"
  }
 },
 "nbformat": 4,
 "nbformat_minor": 5
}
